{
 "cells": [
  {
   "cell_type": "markdown",
   "id": "df9eb1e1-c3d1-4f8e-81d3-efde1c608eb6",
   "metadata": {},
   "source": [
    "# Graphics "
   ]
  },
  {
   "cell_type": "code",
   "execution_count": 1,
   "id": "a451e22e-91b2-4fda-aeb8-7e1b56ed9301",
   "metadata": {},
   "outputs": [],
   "source": [
    "%load_ext rpy2.ipython\n",
    "%load_ext autoreload\n",
    "%autoreload 2\n",
    "\n",
    "%matplotlib inline  \n",
    "from matplotlib import rcParams\n",
    "rcParams['figure.figsize'] = (16, 100)\n",
    "\n",
    "import warnings\n",
    "from rpy2.rinterface import RRuntimeWarning\n",
    "warnings.filterwarnings(\"ignore\") # Ignore all warnings\n",
    "# warnings.filterwarnings(\"ignore\", category=RRuntimeWarning) # Show some warnings\n",
    "\n",
    "import pandas as pd\n",
    "import numpy as np\n",
    "import matplotlib.pyplot as plt\n",
    "from IPython.display import display, HTML"
   ]
  },
  {
   "cell_type": "code",
   "execution_count": 2,
   "id": "4b2712c0-4431-4fff-b081-588850411eae",
   "metadata": {},
   "outputs": [
    {
     "data": {
      "application/javascript": [
       "// Disable auto-scrolling\n",
       "IPython.OutputArea.prototype._should_scroll = function(lines) {\n",
       "    return false;\n",
       "}\n"
      ],
      "text/plain": [
       "<IPython.core.display.Javascript object>"
      ]
     },
     "metadata": {},
     "output_type": "display_data"
    }
   ],
   "source": [
    "%%javascript\n",
    "// Disable auto-scrolling\n",
    "IPython.OutputArea.prototype._should_scroll = function(lines) {\n",
    "    return false;\n",
    "}"
   ]
  },
  {
   "cell_type": "code",
   "execution_count": 3,
   "id": "35adbc6b-a263-4b8e-95b6-2fdfe757fe8b",
   "metadata": {},
   "outputs": [
    {
     "name": "stdout",
     "output_type": "stream",
     "text": [
      "── Attaching core tidyverse packages ──────────────────────── tidyverse 2.0.0 ──\n",
      "✔ dplyr     1.1.4     ✔ readr     2.1.5\n",
      "✔ forcats   1.0.0     ✔ stringr   1.5.1\n",
      "✔ ggplot2   3.4.4     ✔ tibble    3.2.1\n",
      "✔ lubridate 1.9.3     ✔ tidyr     1.3.0\n",
      "✔ purrr     1.0.2     \n",
      "── Conflicts ────────────────────────────────────────── tidyverse_conflicts() ──\n",
      "✖ dplyr::filter() masks stats::filter()\n",
      "✖ dplyr::lag()    masks stats::lag()\n",
      "ℹ Use the conflicted package (<http://conflicted.r-lib.org/>) to force all conflicts to become errors\n"
     ]
    },
    {
     "data": {
      "text/plain": [
       "Loading required package: tidyverse\n"
      ]
     },
     "metadata": {},
     "output_type": "display_data"
    }
   ],
   "source": [
    "%%R\n",
    "\n",
    "# My commonly used R imports\n",
    "\n",
    "require('tidyverse')"
   ]
  },
  {
   "cell_type": "markdown",
   "id": "91eff99f-6bb8-4ef2-affe-36c5bbda2df8",
   "metadata": {},
   "source": [
    "# First graph, 1937"
   ]
  },
  {
   "cell_type": "code",
   "execution_count": 61,
   "id": "0d19c3a5-7890-44c3-93b8-7647a4caeb48",
   "metadata": {},
   "outputs": [
    {
     "name": "stdout",
     "output_type": "stream",
     "text": [
      "# A tibble: 6 × 5\n",
      "   Year Species         Rank `Proportion type`   `%`\n",
      "  <dbl> <chr>          <dbl> <chr>             <dbl>\n",
      "1  1937 Elms               7 Share of count      1.6\n",
      "2  1937 Dogwood            8 Share of count      1.4\n",
      "3  1937 Tulip tree         9 Share of count      1.3\n",
      "4  1937 Maples            10 Share of count      1.2\n",
      "5  1937 American beech    11 Share of count      1.1\n",
      "6  1937 European ash      12 Share of count      1  \n"
     ]
    }
   ],
   "source": [
    "%%R\n",
    "library(readxl)\n",
    "df_trees37 <- read_excel('Forest.xlsx')\n",
    "df_trees37 %>% tail()"
   ]
  },
  {
   "cell_type": "code",
   "execution_count": 58,
   "id": "6d96b6e1-d548-4ca3-b88d-70f4bbd28040",
   "metadata": {},
   "outputs": [],
   "source": [
    "%%R -w 450 -h 490\n",
    "\n",
    "library(ggplot2)\n",
    "library(readxl)\n",
    "\n",
    "df_trees37$Rank <- factor(df_trees37$Rank)\n",
    "\n",
    "ggplot(df_trees37, aes(x = Rank, y = `%`, color = `Proportion type`, group = `Proportion type`)) +\n",
    "  geom_line(linewidth = 1) +\n",
    "  geom_point() +\n",
    "  geom_text_repel(data = df_trees37 %>% filter(Rank %in% c(\"1\", \"2\", \"3\", \"4\")), \n",
    "                  aes(label = Species), color = \"blue\") +\n",
    "  scale_y_continuous(limits = c(NA, 35)) + \n",
    "  scale_color_manual(values = c(\"Area\" = \"lightblue\", \"Share of count\" = \"lightgreen\")) +\n",
    "  theme_minimal() +\n",
    "  labs(title = \"1937\", x = \"Rank\", y = \"Percentage\") +\n",
    "    theme(\n",
    "    axis.text.y = element_text(margin = margin(r = 5, unit = \"mm\")),\n",
    "    axis.title.x = element_blank(),\n",
    "    axis.title.y = element_blank(),\n",
    "    panel.grid.major.x = element_blank(),\n",
    "    panel.grid.minor.x = element_blank(),\n",
    "    panel.grid.major.y = element_line(color = \"grey\", size = 0.5),\n",
    "    panel.grid.minor.y = element_blank(),\n",
    "    legend.position = \"top\",\n",
    "    legend.title = element_blank()\n",
    "  )\n",
    "\n",
    "ggsave(\"trees1.svg\", width = 4, height = 4, units = \"in\", device = \"svg\")"
   ]
  },
  {
   "cell_type": "markdown",
   "id": "4c1771f1-2fa8-456d-a8c8-23c810e6e3b0",
   "metadata": {},
   "source": [
    "# Second graph 1985"
   ]
  },
  {
   "cell_type": "code",
   "execution_count": 62,
   "id": "ec823968-7e63-4236-9862-e2b591bfb4ec",
   "metadata": {},
   "outputs": [
    {
     "name": "stdout",
     "output_type": "stream",
     "text": [
      "# A tibble: 6 × 5\n",
      "   Year Species           Rank `Proportion type`   `%`\n",
      "  <dbl> <chr>            <dbl> <chr>             <dbl>\n",
      "1  1985 Oaks                 1 Area               23  \n",
      "2  1985 Northern red oak     2 Area               13  \n",
      "3  1985 Red maple            3 Area               13  \n",
      "4  1985 Tulip tree           4 Area               12.5\n",
      "5  1985 American beech       5 Area               10  \n",
      "6  1985 Hickories            6 Area                9  \n"
     ]
    }
   ],
   "source": [
    "%%R\n",
    "library(readxl)\n",
    "df_trees85 <- read_excel('Forest1985.xlsx')\n",
    "df_trees85 %>% head()"
   ]
  },
  {
   "cell_type": "code",
   "execution_count": 68,
   "id": "1b74bfd3-17e8-4b4e-83b3-f1c87847cf46",
   "metadata": {},
   "outputs": [
    {
     "data": {
      "text/plain": [
       "In addition: Warning message:\n",
       "ggrepel: 2 unlabeled data points (too many overlaps). Consider increasing max.overlaps \n"
      ]
     },
     "metadata": {},
     "output_type": "display_data"
    }
   ],
   "source": [
    "%%R -w 450 -h 490\n",
    "\n",
    "library(ggplot2)\n",
    "library(readxl)\n",
    "\n",
    "df_trees85$Rank <- factor(df_trees85$Rank)\n",
    "\n",
    "ggplot(df_trees85, aes(x = Rank, y = `%`, color = `Proportion type`, group = `Proportion type`)) +\n",
    "  geom_line(linewidth = 1) +\n",
    "  geom_point() +\n",
    "  geom_text_repel(data = df_trees85 %>% filter(Rank %in% c(\"1\", \"2\", \"3\", \"4\")), \n",
    "                  aes(label = Species), color = \"blue\") +\n",
    "  scale_y_continuous(limits = c(NA, 35)) + \n",
    "  scale_color_manual(values = c(\"Area\" = \"lightblue\", \"Share of count\" = \"lightgreen\")) +\n",
    "  theme_minimal() +\n",
    "  labs(x = \"Rank\", y = \"Percentage\") +\n",
    "    theme(\n",
    "    axis.text.y = element_text(margin = margin(r = 5, unit = \"mm\")),\n",
    "    axis.title.x = element_blank(),\n",
    "    axis.title.y = element_blank(),\n",
    "    panel.grid.major.x = element_blank(),\n",
    "    panel.grid.minor.x = element_blank(),\n",
    "    panel.grid.major.y = element_line(color = \"grey\", size = 0.5),\n",
    "    panel.grid.minor.y = element_blank(),\n",
    "    legend.position = \"top\",\n",
    "    legend.title = element_blank()\n",
    "  )\n",
    "\n",
    "ggsave(\"trees1985.svg\", width = 4, height = 4, units = \"in\", device = \"svg\")"
   ]
  },
  {
   "cell_type": "markdown",
   "id": "bed67bfa-8f34-4d84-9f87-f7b71039a4e9",
   "metadata": {},
   "source": [
    "# Third graph 2021"
   ]
  },
  {
   "cell_type": "code",
   "execution_count": 70,
   "id": "19da2f1e-2ff6-4a9a-a79e-4456a3134e66",
   "metadata": {},
   "outputs": [
    {
     "name": "stdout",
     "output_type": "stream",
     "text": [
      "# A tibble: 6 × 5\n",
      "   Year Species        Rank `Proportion type`   `%`\n",
      "  <dbl> <chr>         <dbl> <chr>             <dbl>\n",
      "1  2021 Oaks              1 Area               23  \n",
      "2  2021 Red Oak           2 Area               13  \n",
      "3  2021 Red mable         3 Area               12.9\n",
      "4  2021 Tulip tree        4 Area               12.5\n",
      "5  2021 American beec     5 Area               10  \n",
      "6  2021 Hickory           6 Area                9  \n"
     ]
    }
   ],
   "source": [
    "%%R\n",
    "library(readxl)\n",
    "df_trees21 <- read_excel('Forest2021.xlsx')\n",
    "df_trees21 %>% head()"
   ]
  },
  {
   "cell_type": "code",
   "execution_count": 72,
   "id": "b95c17d0-be55-4da4-ba85-74201f884a5d",
   "metadata": {},
   "outputs": [],
   "source": [
    "%%R -w 450 -h 490\n",
    "\n",
    "library(ggplot2)\n",
    "library(readxl)\n",
    "\n",
    "df_trees21$Rank <- factor(df_trees37$Rank)\n",
    "\n",
    "ggplot(df_trees21, aes(x = Rank, y = `%`, color = `Proportion type`, group = `Proportion type`)) +\n",
    "  geom_line(linewidth = 1) +\n",
    "  geom_point() +\n",
    "  geom_text_repel(data = df_trees21 %>% filter(Rank %in% c(\"1\", \"2\", \"3\", \"4\")), \n",
    "                  aes(label = Species), color = \"blue\") +\n",
    "  scale_y_continuous(limits = c(NA, 35)) + \n",
    "  scale_color_manual(values = c(\"Area\" = \"lightblue\", \"Share of count\" = \"lightgreen\")) +\n",
    "  theme_minimal() +\n",
    "  labs(x = \"Rank\", y = \"Percentage\") +\n",
    "    theme(\n",
    "    axis.text.y = element_text(margin = margin(r = 5, unit = \"mm\")),\n",
    "    axis.title.x = element_blank(),\n",
    "    axis.title.y = element_blank(),\n",
    "    panel.grid.major.x = element_blank(),\n",
    "    panel.grid.minor.x = element_blank(),\n",
    "    panel.grid.major.y = element_line(color = \"grey\", size = 0.5),\n",
    "    panel.grid.minor.y = element_blank(),\n",
    "    legend.position = \"top\",\n",
    "    legend.title = element_blank()\n",
    "  )\n",
    "\n",
    "ggsave(\"trees2021.svg\", width = 4, height = 4, units = \"in\", device = \"svg\")"
   ]
  },
  {
   "cell_type": "code",
   "execution_count": null,
   "id": "db3a40b6-f701-408f-8e50-33a564d2a13f",
   "metadata": {},
   "outputs": [],
   "source": []
  }
 ],
 "metadata": {
  "kernelspec": {
   "display_name": "Python 3 (ipykernel)",
   "language": "python",
   "name": "python3"
  },
  "language_info": {
   "codemirror_mode": {
    "name": "ipython",
    "version": 3
   },
   "file_extension": ".py",
   "mimetype": "text/x-python",
   "name": "python",
   "nbconvert_exporter": "python",
   "pygments_lexer": "ipython3",
   "version": "3.11.6"
  }
 },
 "nbformat": 4,
 "nbformat_minor": 5
}
